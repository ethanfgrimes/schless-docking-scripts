{
 "cells": [
  {
   "cell_type": "code",
   "execution_count": 1,
   "metadata": {},
   "outputs": [],
   "source": [
    "import pandas as pd"
   ]
  },
  {
   "cell_type": "markdown",
   "metadata": {},
   "source": [
    "Takes list of compounds of interest, with each line of the list.txt being the pose number of the COI. Exports data of each compound to a new file. "
   ]
  },
  {
   "cell_type": "code",
   "execution_count": 2,
   "metadata": {},
   "outputs": [],
   "source": [
    "def parse_for_coi(input_sheet, list_filename, output_sheet):\n",
    "    df = pd.read_csv(input_sheet)\n",
    "\n",
    "    coi_posenum = []\n",
    "    with open(list_filename, 'r') as file:\n",
    "        for line in file:\n",
    "            coi_posenum.append(int(line.strip()))\n",
    "\n",
    "    print('Compounds of interest:', coi_posenum)\n",
    "\n",
    "    filtered_df = df[df['Pose_num'].isin(coi_posenum)]\n",
    "\n",
    "    filtered_df.to_csv(output_sheet, index=False)\n",
    "    print(f'Compounds of interest exported to {output_sheet}')"
   ]
  },
  {
   "cell_type": "code",
   "execution_count": 4,
   "metadata": {},
   "outputs": [
    {
     "name": "stdout",
     "output_type": "stream",
     "text": [
      "Compounds of interest: [1, 8, 3, 10, 16, 15, 10, 19, 26, 30, 31, 32, 34, 44, 46, 47, 50, 51, 55, 59, 62, 63, 66, 67, 68, 70, 71, 74, 80, 81, 93, 97, 99, 101, 109, 111, 117, 124, 130, 133, 135, 141, 146, 152, 155, 169, 170, 171, 172, 175, 188, 190, 195, 200, 202, 206, 210, 211, 215, 225, 231, 244, 249, 259, 262, 272, 275, 279, 281, 288, 295, 297, 317, 324, 337, 494, 330, 357, 364, 365, 369, 371, 372, 375, 384, 387, 393, 394, 395, 402, 403, 405, 413, 416, 417, 423, 429, 432, 433, 440, 448, 449, 453, 458, 461, 464, 470, 482, 493, 495, 496, 498]\n",
      "Compounds of interest exported to coi_na08.csv\n"
     ]
    }
   ],
   "source": [
    "parse_for_coi('top500_na08.csv', 'na08_coi.txt', 'coi_na08.csv')"
   ]
  }
 ],
 "metadata": {
  "kernelspec": {
   "display_name": "Python 3",
   "language": "python",
   "name": "python3"
  },
  "language_info": {
   "codemirror_mode": {
    "name": "ipython",
    "version": 3
   },
   "file_extension": ".py",
   "mimetype": "text/x-python",
   "name": "python",
   "nbconvert_exporter": "python",
   "pygments_lexer": "ipython3",
   "version": "3.10.2"
  }
 },
 "nbformat": 4,
 "nbformat_minor": 2
}
