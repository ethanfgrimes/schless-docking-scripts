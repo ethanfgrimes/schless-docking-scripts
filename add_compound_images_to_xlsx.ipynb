{
 "cells": [
  {
   "cell_type": "code",
   "execution_count": 1,
   "metadata": {},
   "outputs": [],
   "source": [
    "import openpyxl\n",
    "from openpyxl.drawing.image import Image\n",
    "from openpyxl.utils import get_column_letter\n",
    "import requests\n",
    "import os"
   ]
  },
  {
   "cell_type": "code",
   "execution_count": 2,
   "metadata": {},
   "outputs": [],
   "source": [
    "def update_and_download_images(file_path, save_directory):\n",
    "    workbook = openpyxl.load_workbook(filename=file_path)\n",
    "    sheet = workbook.active\n",
    "\n",
    "    zinc_ID_ci = 1  # Assuming 'Compound_ID' is in column B (index 1)\n",
    "    image_url_ci = 7  # Assuming the 'Image_URL' is in column G (index 6)\n",
    "\n",
    "    for row in sheet.iter_rows(min_row=2, values_only=False):\n",
    "        zinc_ID = row[zinc_ID_ci].value\n",
    "        formatted_id = f\"ZINC{int(zinc_ID):012d}\"\n",
    "        image_url = f\"https://zinc.docking.org/substances/{formatted_id}.png\"\n",
    "        row[image_url_ci].value = image_url\n",
    "\n",
    "        # Define the save path for each image\n",
    "        image_file_path = os.path.join(save_directory, f\"{zinc_ID}.png\")\n",
    "\n",
    "        # Download the image\n",
    "        download_image(image_url, image_file_path)\n",
    "\n",
    "    workbook.save(filename=file_path)\n",
    "\n",
    "def download_image(image_url, save_path):\n",
    "    response = requests.get(image_url)\n",
    "    if response.status_code == 200:\n",
    "        with open(save_path, 'wb') as f:\n",
    "            f.write(response.content)\n",
    "    else:\n",
    "        print(f\"Failed to download image from {image_url}\")\n"
   ]
  },
  {
   "cell_type": "code",
   "execution_count": 3,
   "metadata": {},
   "outputs": [],
   "source": [
    "def add_images(file_path, save_directory):\n",
    "    workbook = openpyxl.load_workbook(filename=file_path)\n",
    "    sheet = workbook.active\n",
    "\n",
    "    # Remove existing images from the sheet\n",
    "    if hasattr(sheet, '_images'):\n",
    "        sheet._images = []\n",
    "\n",
    "    compound_id_ci = 1\n",
    "    image_column_letter = 'I'\n",
    "\n",
    "    for row in sheet.iter_rows(min_row=2, values_only=False):\n",
    "        compound_id = row[compound_id_ci].value\n",
    "        if compound_id is not None:\n",
    "            image_filename = f\"{compound_id}.png\"\n",
    "            image_path = os.path.join(save_directory, image_filename)\n",
    "            # Check if the image file exists for this Compound_ID\n",
    "            if os.path.exists(image_path):\n",
    "                # Load and insert the image\n",
    "                img = Image(image_path)\n",
    "                \n",
    "                # Adjust image size if needed\n",
    "                img.width, img.height = img.width / 2, img.height / 2\n",
    "\n",
    "                sheet.row_dimensions[row[0].row].height = img.height / 1.3\n",
    "                column_index = openpyxl.utils.column_index_from_string(image_column_letter)\n",
    "                sheet.column_dimensions[get_column_letter(column_index)].width = img.width / 8\n",
    "\n",
    "                # Calculate the cell to anchor the image to\n",
    "                anchor_cell = f\"{image_column_letter}{row[0].row}\"\n",
    "                \n",
    "                # Add the image to the sheet\n",
    "                sheet.add_image(img, anchor_cell)\n",
    "\n",
    "    workbook.save(filename=file_path)"
   ]
  },
  {
   "cell_type": "code",
   "execution_count": 6,
   "metadata": {},
   "outputs": [],
   "source": [
    "# Define the paths\n",
    "file_path = '/Users/ethangrimes/Documents/Avner/SIT1_models/na/coi_na08.xlsx'\n",
    "save_directory = '/Users/ethangrimes/Documents/Avner/SIT1_models/mol_images'\n",
    "\n",
    "# Ensure the save directory exists\n",
    "os.makedirs(save_directory, exist_ok=True)\n",
    "\n",
    "# Call the function to update the sheet and download images\n",
    "update_and_download_images(file_path, save_directory)\n",
    "\n",
    "add_images(file_path, save_directory)"
   ]
  }
 ],
 "metadata": {
  "kernelspec": {
   "display_name": "base",
   "language": "python",
   "name": "python3"
  },
  "language_info": {
   "codemirror_mode": {
    "name": "ipython",
    "version": 3
   },
   "file_extension": ".py",
   "mimetype": "text/x-python",
   "name": "python",
   "nbconvert_exporter": "python",
   "pygments_lexer": "ipython3",
   "version": "3.10.8"
  }
 },
 "nbformat": 4,
 "nbformat_minor": 2
}
